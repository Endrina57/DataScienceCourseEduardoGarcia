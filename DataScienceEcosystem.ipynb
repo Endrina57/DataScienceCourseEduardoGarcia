{
 "cells": [
  {
   "cell_type": "markdown",
   "id": "56f142a3-1ef6-4ff0-8416-726ce8ead7a8",
   "metadata": {},
   "source": [
    "# Data Science Tools and Ecosystem"
   ]
  },
  {
   "cell_type": "markdown",
   "id": "e5a6b6fb-dd02-47fd-ac0f-26150c6d6c51",
   "metadata": {},
   "source": [
    "In this notebook, Data Science Tools and Ecosystem are summarized."
   ]
  },
  {
   "cell_type": "markdown",
   "id": "8df94134-208d-427b-8087-40a3d923b4f0",
   "metadata": {},
   "source": [
    "Some of the popular languages that Data Scientists use are:\n",
    "\n",
    "1) Python\n",
    "2) SQL\n",
    "3) R"
   ]
  },
  {
   "cell_type": "code",
   "execution_count": null,
   "id": "ea1d729d-2e9a-425c-a693-d0bee524d838",
   "metadata": {},
   "outputs": [],
   "source": [
    "Some of the commonly used libraries used by Data Scientists include:\n",
    "\n",
    "1) SciPy\n",
    "2) NumPy\n",
    "3) Pandas\n",
    "4) Tensorflow"
   ]
  },
  {
   "cell_type": "markdown",
   "id": "1aee1e22-9bb4-4a7f-a339-d94b1cb3014f",
   "metadata": {},
   "source": [
    "|Data Science Tools |\n",
    "| ------ |\n",
    "| Tensorflow|\n",
    "| Hadoop|\n",
    "| SAS |"
   ]
  },
  {
   "cell_type": "markdown",
   "id": "3e2c0bcc-c42f-48dd-86d3-d5e63c90c581",
   "metadata": {},
   "source": [
    "### Below are a few examples of evaluating arithmetic expressions in Python:\n",
    "\n"
   ]
  },
  {
   "cell_type": "code",
   "execution_count": 8,
   "id": "f593b03d-266b-463b-8cc3-b8ec149cacfe",
   "metadata": {},
   "outputs": [
    {
     "data": {
      "text/plain": [
       "17"
      ]
     },
     "execution_count": 8,
     "metadata": {},
     "output_type": "execute_result"
    }
   ],
   "source": [
    "#This a simple arithmetic expression to mutiply then add integers\n",
    "(3*4)+5"
   ]
  },
  {
   "cell_type": "code",
   "execution_count": 9,
   "id": "ff851bd0-8ed5-4f3c-9cd8-a1e032f7f6d3",
   "metadata": {},
   "outputs": [
    {
     "data": {
      "text/plain": [
       "3.3333333333333335"
      ]
     },
     "execution_count": 9,
     "metadata": {},
     "output_type": "execute_result"
    }
   ],
   "source": [
    "#This will convert 200 minutes to hours by diving by 60\n",
    "200/60"
   ]
  },
  {
   "cell_type": "markdown",
   "id": "06f9495a-7015-4aa7-bc79-a5f92c468cad",
   "metadata": {},
   "source": [
    "__Objectives of this lab__\n",
    "* List Popular languages for Data Science\n",
    "* List Popular Libraries for Data Science\n",
    "* List Data Science Tools\n",
    "* Insert comments into cells "
   ]
  },
  {
   "cell_type": "markdown",
   "id": "0067deff-6ad7-40f3-be7f-7c18a31d196f",
   "metadata": {},
   "source": [
    "## Author"
   ]
  },
  {
   "cell_type": "markdown",
   "id": "ad5b9159-63b4-442d-a7aa-3fcd03ad265e",
   "metadata": {},
   "source": [
    "Eduardo Garcia"
   ]
  },
  {
   "cell_type": "code",
   "execution_count": null,
   "id": "044e059c-3ddd-4270-bc0a-2d653f3e51c5",
   "metadata": {},
   "outputs": [],
   "source": []
  }
 ],
 "metadata": {
  "kernelspec": {
   "display_name": "Python 3 (ipykernel)",
   "language": "python",
   "name": "python3"
  },
  "language_info": {
   "codemirror_mode": {
    "name": "ipython",
    "version": 3
   },
   "file_extension": ".py",
   "mimetype": "text/x-python",
   "name": "python",
   "nbconvert_exporter": "python",
   "pygments_lexer": "ipython3",
   "version": "3.12.5"
  }
 },
 "nbformat": 4,
 "nbformat_minor": 5
}
